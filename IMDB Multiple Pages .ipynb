{
 "cells": [
  {
   "cell_type": "markdown",
   "metadata": {},
   "source": [
    "# Web Scraping Module With Beautiful Soup"
   ]
  },
  {
   "cell_type": "markdown",
   "metadata": {},
   "source": [
    "## Import the Packages "
   ]
  },
  {
   "cell_type": "code",
   "execution_count": 22,
   "metadata": {},
   "outputs": [],
   "source": [
    "import pandas as pd ## To convert into data frame\n",
    "import numpy as np\n",
    "from time import sleep\n",
    "import requests ## To generate the request to download HTML data \n",
    "from bs4  import BeautifulSoup as bsoup ## Beautiful Soup to parse the HTML files "
   ]
  },
  {
   "cell_type": "markdown",
   "metadata": {},
   "source": [
    "___________________________________________________________________________________________________________________________"
   ]
  },
  {
   "cell_type": "markdown",
   "metadata": {},
   "source": [
    "#### Saving the URL"
   ]
  },
  {
   "cell_type": "code",
   "execution_count": 27,
   "metadata": {},
   "outputs": [],
   "source": [
    "#Declaring variables to store the data\n",
    "title = [] # The title of the movie\n",
    "years = [] # Year of release\n",
    "time = [] # duration in minutes\n",
    "imdb_ratings = [] # ratings\n",
    "metascores = [] # metascores\n",
    "votes = [] # Number of votes\n",
    "us_gross = [] # Gross collection\n",
    "\n",
    "page=np.arange(1,52,50)\n",
    "\n",
    "for i in page:\n",
    "    container=requests.get(\"https://www.imdb.com/search/title/?groups=top_1000&start=\" + str(i) +\"ref_=adv_prv\",timeout=10).text\n",
    "    container_bsoup=bsoup(container,'lxml')\n",
    "    \n",
    "    rev=container_bsoup.find_all('div',{'class':'lister-item mode-advanced'}) # Contains the html data \n",
    "\n",
    "    # Looping to extract features\n",
    "    for r in rev:\n",
    "        #Title\n",
    "        name=r.h3.a.text\n",
    "        title.append(name)\n",
    "    \n",
    "        # Year\n",
    "        year=int((r.h3.find('span',{'class':'lister-item-year text-muted unbold'}).text).replace(\"(\",\"\").replace(\")\",\"\").replace(\"I\",\"\").strip())\n",
    "        years.append(year)\n",
    "    \n",
    "        #Duration\n",
    "        leng=int((r.p.find('span',{'class':'runtime'}).text).replace(\"min\",\"\").strip())\n",
    "        time.append(leng)\n",
    "    \n",
    "        #IMDB Rating\n",
    "        rating=float(r.strong.text)\n",
    "        imdb_ratings.append(rating)\n",
    "        \n",
    "        #Metascore\n",
    "        metascore=int((r.find('div',{'class':'inline-block ratings-metascore'}).span.text).rstrip())\n",
    "        metascores.append(metascore)\n",
    "        \n",
    "        #Since we have same tags with same name and class hence collecting all the common tags \n",
    "        nv = r.find_all('span', attrs={'name': 'nv'})\n",
    "        \n",
    "        #Vote\n",
    "        vote = nv[0].text\n",
    "        votes.append(vote)\n",
    "        \n",
    "        #Gross Collection\n",
    "        ## Condition to check the missing gross value\n",
    "        grosses = nv[1].text if len(nv) > 1 else '-'\n",
    "        us_gross.append(grosses)\n",
    "    sleep(50)"
   ]
  },
  {
   "cell_type": "markdown",
   "metadata": {},
   "source": [
    "____________________________________________________________________________________________________________________________"
   ]
  },
  {
   "cell_type": "markdown",
   "metadata": {},
   "source": [
    "#### Creating DataFrame"
   ]
  },
  {
   "cell_type": "code",
   "execution_count": 28,
   "metadata": {},
   "outputs": [],
   "source": [
    "#Converting into Data Frame\n",
    "imdb_movies=pd.DataFrame({'movie': title,\n",
    "'year': years,\n",
    "'timeMin': time,\n",
    "'imdb': imdb_ratings,\n",
    "'metascore': metascores,\n",
    "'votes': votes,\n",
    "'us_grossMillions': us_gross})"
   ]
  },
  {
   "cell_type": "markdown",
   "metadata": {},
   "source": [
    "___________________________________________________________________________________________________________________________"
   ]
  },
  {
   "cell_type": "markdown",
   "metadata": {},
   "source": [
    "#### Data Inspection"
   ]
  },
  {
   "cell_type": "code",
   "execution_count": 29,
   "metadata": {},
   "outputs": [
    {
     "data": {
      "text/html": [
       "<div>\n",
       "<style scoped>\n",
       "    .dataframe tbody tr th:only-of-type {\n",
       "        vertical-align: middle;\n",
       "    }\n",
       "\n",
       "    .dataframe tbody tr th {\n",
       "        vertical-align: top;\n",
       "    }\n",
       "\n",
       "    .dataframe thead th {\n",
       "        text-align: right;\n",
       "    }\n",
       "</style>\n",
       "<table border=\"1\" class=\"dataframe\">\n",
       "  <thead>\n",
       "    <tr style=\"text-align: right;\">\n",
       "      <th></th>\n",
       "      <th>movie</th>\n",
       "      <th>year</th>\n",
       "      <th>timeMin</th>\n",
       "      <th>imdb</th>\n",
       "      <th>metascore</th>\n",
       "      <th>votes</th>\n",
       "      <th>us_grossMillions</th>\n",
       "    </tr>\n",
       "  </thead>\n",
       "  <tbody>\n",
       "    <tr>\n",
       "      <th>0</th>\n",
       "      <td>Knives Out</td>\n",
       "      <td>2019</td>\n",
       "      <td>130</td>\n",
       "      <td>7.9</td>\n",
       "      <td>82</td>\n",
       "      <td>340,943</td>\n",
       "      <td>$165.36M</td>\n",
       "    </tr>\n",
       "    <tr>\n",
       "      <th>1</th>\n",
       "      <td>Once Upon a Time... in Hollywood</td>\n",
       "      <td>2019</td>\n",
       "      <td>161</td>\n",
       "      <td>7.7</td>\n",
       "      <td>83</td>\n",
       "      <td>487,755</td>\n",
       "      <td>$142.50M</td>\n",
       "    </tr>\n",
       "    <tr>\n",
       "      <th>2</th>\n",
       "      <td>The Gentlemen</td>\n",
       "      <td>2019</td>\n",
       "      <td>113</td>\n",
       "      <td>7.9</td>\n",
       "      <td>51</td>\n",
       "      <td>157,213</td>\n",
       "      <td>-</td>\n",
       "    </tr>\n",
       "    <tr>\n",
       "      <th>3</th>\n",
       "      <td>Gisaengchung</td>\n",
       "      <td>2019</td>\n",
       "      <td>132</td>\n",
       "      <td>8.6</td>\n",
       "      <td>96</td>\n",
       "      <td>441,832</td>\n",
       "      <td>$53.37M</td>\n",
       "    </tr>\n",
       "    <tr>\n",
       "      <th>4</th>\n",
       "      <td>Ford v. Ferrari</td>\n",
       "      <td>2019</td>\n",
       "      <td>152</td>\n",
       "      <td>8.1</td>\n",
       "      <td>81</td>\n",
       "      <td>231,742</td>\n",
       "      <td>$117.62M</td>\n",
       "    </tr>\n",
       "    <tr>\n",
       "      <th>...</th>\n",
       "      <td>...</td>\n",
       "      <td>...</td>\n",
       "      <td>...</td>\n",
       "      <td>...</td>\n",
       "      <td>...</td>\n",
       "      <td>...</td>\n",
       "      <td>...</td>\n",
       "    </tr>\n",
       "    <tr>\n",
       "      <th>95</th>\n",
       "      <td>Spider-Man: Into the Spider-Verse</td>\n",
       "      <td>2018</td>\n",
       "      <td>117</td>\n",
       "      <td>8.4</td>\n",
       "      <td>87</td>\n",
       "      <td>326,337</td>\n",
       "      <td>$190.24M</td>\n",
       "    </tr>\n",
       "    <tr>\n",
       "      <th>96</th>\n",
       "      <td>Thor: Ragnarok</td>\n",
       "      <td>2017</td>\n",
       "      <td>130</td>\n",
       "      <td>7.9</td>\n",
       "      <td>74</td>\n",
       "      <td>557,491</td>\n",
       "      <td>$315.06M</td>\n",
       "    </tr>\n",
       "    <tr>\n",
       "      <th>97</th>\n",
       "      <td>Guardians of the Galaxy</td>\n",
       "      <td>2014</td>\n",
       "      <td>121</td>\n",
       "      <td>8.0</td>\n",
       "      <td>76</td>\n",
       "      <td>1,017,334</td>\n",
       "      <td>$333.18M</td>\n",
       "    </tr>\n",
       "    <tr>\n",
       "      <th>98</th>\n",
       "      <td>The Dark Knight Rises</td>\n",
       "      <td>2012</td>\n",
       "      <td>164</td>\n",
       "      <td>8.4</td>\n",
       "      <td>78</td>\n",
       "      <td>1,470,202</td>\n",
       "      <td>$448.14M</td>\n",
       "    </tr>\n",
       "    <tr>\n",
       "      <th>99</th>\n",
       "      <td>Ocean's Eleven</td>\n",
       "      <td>2001</td>\n",
       "      <td>116</td>\n",
       "      <td>7.7</td>\n",
       "      <td>74</td>\n",
       "      <td>500,862</td>\n",
       "      <td>$183.42M</td>\n",
       "    </tr>\n",
       "  </tbody>\n",
       "</table>\n",
       "<p>100 rows × 7 columns</p>\n",
       "</div>"
      ],
      "text/plain": [
       "                                movie  year  timeMin  imdb  metascore  \\\n",
       "0                          Knives Out  2019      130   7.9         82   \n",
       "1    Once Upon a Time... in Hollywood  2019      161   7.7         83   \n",
       "2                       The Gentlemen  2019      113   7.9         51   \n",
       "3                        Gisaengchung  2019      132   8.6         96   \n",
       "4                     Ford v. Ferrari  2019      152   8.1         81   \n",
       "..                                ...   ...      ...   ...        ...   \n",
       "95  Spider-Man: Into the Spider-Verse  2018      117   8.4         87   \n",
       "96                     Thor: Ragnarok  2017      130   7.9         74   \n",
       "97            Guardians of the Galaxy  2014      121   8.0         76   \n",
       "98              The Dark Knight Rises  2012      164   8.4         78   \n",
       "99                     Ocean's Eleven  2001      116   7.7         74   \n",
       "\n",
       "        votes us_grossMillions  \n",
       "0     340,943         $165.36M  \n",
       "1     487,755         $142.50M  \n",
       "2     157,213                -  \n",
       "3     441,832          $53.37M  \n",
       "4     231,742         $117.62M  \n",
       "..        ...              ...  \n",
       "95    326,337         $190.24M  \n",
       "96    557,491         $315.06M  \n",
       "97  1,017,334         $333.18M  \n",
       "98  1,470,202         $448.14M  \n",
       "99    500,862         $183.42M  \n",
       "\n",
       "[100 rows x 7 columns]"
      ]
     },
     "execution_count": 29,
     "metadata": {},
     "output_type": "execute_result"
    }
   ],
   "source": [
    "#Data Frame\n",
    "imdb_movies"
   ]
  },
  {
   "cell_type": "markdown",
   "metadata": {},
   "source": [
    "### We can see that we have a list of 100 movies from 2 pages as each page consists of 50 movies each.\n",
    "- I have extracted data from two pages because of the time constraint\n",
    "- We can randomly give time in sleep function if we need to extract from more pages. e.g. sleep(np.random.randint(20,40))"
   ]
  },
  {
   "cell_type": "markdown",
   "metadata": {},
   "source": [
    "___________________________________________________________________________________________________________________________"
   ]
  },
  {
   "cell_type": "markdown",
   "metadata": {},
   "source": [
    "# THANK YOU"
   ]
  }
 ],
 "metadata": {
  "kernelspec": {
   "display_name": "Python 3",
   "language": "python",
   "name": "python3"
  },
  "language_info": {
   "codemirror_mode": {
    "name": "ipython",
    "version": 3
   },
   "file_extension": ".py",
   "mimetype": "text/x-python",
   "name": "python",
   "nbconvert_exporter": "python",
   "pygments_lexer": "ipython3",
   "version": "3.7.4"
  }
 },
 "nbformat": 4,
 "nbformat_minor": 2
}
